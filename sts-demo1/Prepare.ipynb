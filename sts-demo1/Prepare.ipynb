{
 "cells": [
  {
   "cell_type": "code",
   "execution_count": null,
   "metadata": {},
   "outputs": [],
   "source": [
    "!wget https://raw.githubusercontent.com/ksingh7/analyzing_ufo_dataset_with_spark/master/UFO_dataset_kaggle.csv"
   ]
  },
  {
   "cell_type": "code",
   "execution_count": 1,
   "metadata": {},
   "outputs": [
    {
     "name": "stdout",
     "output_type": "stream",
     "text": [
      "Collecting random-word\n",
      "  Downloading Random_Word-1.0.4-py3-none-any.whl (7.2 kB)\n",
      "Requirement already satisfied: requests in /opt/app-root/lib/python3.6/site-packages (from random-word) (2.23.0)\n",
      "Collecting nose\n",
      "  Downloading nose-1.3.7-py3-none-any.whl (154 kB)\n",
      "\u001b[K     |████████████████████████████████| 154 kB 493 kB/s eta 0:00:01\n",
      "\u001b[?25hRequirement already satisfied: chardet<4,>=3.0.2 in /opt/app-root/lib/python3.6/site-packages (from requests->random-word) (3.0.4)\n",
      "Requirement already satisfied: urllib3!=1.25.0,!=1.25.1,<1.26,>=1.21.1 in /opt/app-root/lib/python3.6/site-packages (from requests->random-word) (1.25.8)\n",
      "Requirement already satisfied: certifi>=2017.4.17 in /opt/app-root/lib/python3.6/site-packages (from requests->random-word) (2019.11.28)\n",
      "Requirement already satisfied: idna<3,>=2.5 in /opt/app-root/lib/python3.6/site-packages (from requests->random-word) (2.9)\n",
      "Installing collected packages: nose, random-word\n",
      "Successfully installed nose-1.3.7 random-word-1.0.4\n",
      "\u001b[33mWARNING: You are using pip version 20.0.2; however, version 20.2.3 is available.\n",
      "You should consider upgrading via the '/opt/app-root/bin/python3 -m pip install --upgrade pip' command.\u001b[0m\n"
     ]
    }
   ],
   "source": [
    "! pip install random-word"
   ]
  },
  {
   "cell_type": "code",
   "execution_count": 17,
   "metadata": {},
   "outputs": [
    {
     "name": "stdout",
     "output_type": "stream",
     "text": [
      "2020-09-28 21:48:01.896000+00:00 ufo-dataset\n",
      "file_name\n"
     ]
    }
   ],
   "source": [
    "from random_word import RandomWords\n",
    "import boto3\n",
    "from botocore.client import Config\n",
    "import urllib3\n",
    "random_word = RandomWords()\n",
    "#file_name = random_word.get_random_word()\n",
    "\n",
    "more_binary_data = b'Here we have some more data'\n",
    "endpoint_url='http://10.0.111.122:8080'\n",
    "\n",
    "def main():\n",
    "    urllib3.disable_warnings()\n",
    "    s3 = boto3.client('s3',\n",
    "                      #endpoint_url='http://ceph-rgw.odh.svc.cluster.local',\n",
    "                      endpoint_url=endpoint_url,\n",
    "                      aws_access_key_id='user1',\n",
    "                      aws_secret_access_key='user1pass',\n",
    "                      config=Config(s3={'addressing_style': 'auto'}),\n",
    "                      use_ssl=False,\n",
    "                      verify=False\n",
    "                      )\n",
    "    s3.create_bucket(Bucket=\"ufo-dataset\")\n",
    "    response = s3.list_buckets()\n",
    "    for item in response['Buckets']:\n",
    "        print(item['CreationDate'], item['Name'])\n",
    "        s3.put_object(Body='UFO_dataset_kaggle.csv', Bucket=item['Name'], Key='file_name')\n",
    "    response = s3.list_buckets()\n",
    "\n",
    "    for key in s3.list_objects(Bucket='ufo-dataset')['Contents']:\n",
    "        print(key['Key'])\n",
    "\n",
    "    # Retrieve the list of existing buckets\n",
    "    #response = s3.list_buckets()\n",
    "\n",
    "    # Output the bucket names\n",
    "    #print('Existing buckets:')\n",
    "    #for bucket in response['Buckets']:\n",
    "    #    print(f'  {bucket[\"Name\"]}')\n",
    "        \n",
    "if __name__ == '__main__':\n",
    "    main()"
   ]
  },
  {
   "cell_type": "code",
   "execution_count": 18,
   "metadata": {},
   "outputs": [
    {
     "name": "stdout",
     "output_type": "stream",
     "text": [
      "file_name\n"
     ]
    }
   ],
   "source": [
    "## Delete all objects from ufo-dataset bucket\n",
    "endpoint_url='http://10.0.111.122:8080'\n",
    "def main():\n",
    "    urllib3.disable_warnings()\n",
    "    s3 = boto3.client('s3',\n",
    "                      endpoint_url=endpoint_url,\n",
    "                      aws_access_key_id='user1',\n",
    "                      aws_secret_access_key='user1pass', \n",
    "                      use_ssl=False,\n",
    "                      verify=False\n",
    "                      )\n",
    "\n",
    "    for key in s3.list_objects(Bucket='ufo-dataset')['Contents']:\n",
    "        print(key['Key'])\n",
    "        response = s3.delete_object( Bucket='ufo-dataset', Key=key['Key'])\n",
    "\n",
    "    \n",
    "if __name__ == '__main__':\n",
    "    main()  "
   ]
  },
  {
   "cell_type": "code",
   "execution_count": 19,
   "metadata": {},
   "outputs": [
    {
     "name": "stdout",
     "output_type": "stream",
     "text": [
      "UFO_dataset_kaggle.csv\n"
     ]
    }
   ],
   "source": [
    "## Upload UFO dataset CSV to ufo-dataset bucket\n",
    "endpoint_url='http://10.0.111.122:8080'\n",
    "\n",
    "def main():\n",
    "    urllib3.disable_warnings()\n",
    "    s3 = boto3.client('s3',\n",
    "                      endpoint_url=endpoint_url,\n",
    "                      aws_access_key_id='user1',\n",
    "                      aws_secret_access_key='user1pass', \n",
    "                      use_ssl=False,\n",
    "                      verify=False\n",
    "                      )\n",
    "    s3.upload_file('UFO_dataset_kaggle.csv', 'ufo-dataset', 'UFO_dataset_kaggle.csv')\n",
    "\n",
    "    for key in s3.list_objects(Bucket='ufo-dataset')['Contents']:\n",
    "        print(key['Key'])\n",
    "    \n",
    "if __name__ == '__main__':\n",
    "    main()   "
   ]
  },
  {
   "cell_type": "code",
   "execution_count": null,
   "metadata": {},
   "outputs": [],
   "source": []
  }
 ],
 "metadata": {
  "kernelspec": {
   "display_name": "Python 3",
   "language": "python",
   "name": "python3"
  },
  "language_info": {
   "codemirror_mode": {
    "name": "ipython",
    "version": 3
   },
   "file_extension": ".py",
   "mimetype": "text/x-python",
   "name": "python",
   "nbconvert_exporter": "python",
   "pygments_lexer": "ipython3",
   "version": "3.6.9"
  }
 },
 "nbformat": 4,
 "nbformat_minor": 4
}
