{
 "cells": [
  {
   "cell_type": "markdown",
   "metadata": {},
   "source": [
    "# user1 to allow user2 for accessing dataset via STS AssumeRole Feature"
   ]
  },
  {
   "cell_type": "code",
   "execution_count": 8,
   "metadata": {},
   "outputs": [
    {
     "name": "stdout",
     "output_type": "stream",
     "text": [
      "IAM Role and Policy has been applied, user2 can now access dataset without user1's credentials sharing\n"
     ]
    }
   ],
   "source": [
    "import boto3\n",
    "import json\n",
    "import logging\n",
    "from botocore.exceptions import ClientError\n",
    "logging.basicConfig(filename=\"boto.log\", level=logging.DEBUG)\n",
    "\n",
    "from botocore.handlers import validate_bucket_name\n",
    "\n",
    "\n",
    "## (S3 resource) --> Policy --> Role --> User\n",
    "\n",
    "## user2 will assume a role, which is created by user1 to access s3 resources owned by user1\n",
    "## according to the permission policy attached to the role\n",
    "\n",
    "endpoint_url='http://10.0.111.122:8080'\n",
    "\n",
    "user1_iam = boto3.client('iam',\n",
    "           aws_access_key_id='user1',\n",
    "           aws_secret_access_key='user1pass',\n",
    "           endpoint_url=endpoint_url,\n",
    "           region_name='')\n",
    "\n",
    "\n",
    "policy_document = \"{\\\"Version\\\":\\\"2012-10-17\\\",\\\"Statement\\\":[{\\\"Effect\\\":\\\"Allow\\\",\\\"Principal\\\":{\\\"AWS\\\":[\\\"arn:aws:iam::odh:user/user2\\\"]},\\\"Action\\\":[\\\"sts:AssumeRole\\\"]}]}\"\n",
    "\n",
    "\n",
    "\n",
    "role_response = \"\"\n",
    "#print(\"\\n Getting Role \\n\")\n",
    "#  Getting Role\n",
    "\n",
    "try:\n",
    "    role_response = user1_iam.get_role(\n",
    "        RoleName='S3Access2'\n",
    "    )\n",
    "    #print(role_response)\n",
    "\n",
    "## on first run it was blank\n",
    "    \n",
    "except ClientError as e:\n",
    "    print(\"\\n Creating Role \\n\")\n",
    "#  Creating Role \n",
    "    role_response = user1_iam.create_role(\n",
    "       AssumeRolePolicyDocument=policy_document,\n",
    "       Path='/',\n",
    "       RoleName='S3Access2',\n",
    "    )\n",
    "    print(role_response)\n",
    "\n",
    "\n",
    "role_policy = \"{\\\"Version\\\":\\\"2012-10-17\\\",\\\"Statement\\\":{\\\"Effect\\\":\\\"Allow\\\",\\\"Action\\\":\\\"s3:*\\\",\\\"Resource\\\":\\\"arn:aws:s3:::*\\\"}}\"\n",
    "\n",
    "response = user1_iam.put_role_policy(\n",
    "                RoleName='S3Access2',\n",
    "                PolicyName='Policy1',\n",
    "                PolicyDocument=role_policy\n",
    "                )\n",
    "\n",
    "print(\"IAM Role and Policy has been applied, user2 can now access dataset without user1's credentials sharing\")"
   ]
  },
  {
   "cell_type": "code",
   "execution_count": null,
   "metadata": {},
   "outputs": [],
   "source": []
  }
 ],
 "metadata": {
  "kernelspec": {
   "display_name": "Python 3",
   "language": "python",
   "name": "python3"
  },
  "language_info": {
   "codemirror_mode": {
    "name": "ipython",
    "version": 3
   },
   "file_extension": ".py",
   "mimetype": "text/x-python",
   "name": "python",
   "nbconvert_exporter": "python",
   "pygments_lexer": "ipython3",
   "version": "3.6.9"
  }
 },
 "nbformat": 4,
 "nbformat_minor": 4
}
